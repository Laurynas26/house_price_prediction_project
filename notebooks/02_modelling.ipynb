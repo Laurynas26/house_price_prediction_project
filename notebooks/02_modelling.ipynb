{
 "cells": [
  {
   "cell_type": "markdown",
   "id": "0",
   "metadata": {},
   "source": [
    "#### 1. Imports and Set-up\n"
   ]
  },
  {
   "cell_type": "code",
   "execution_count": null,
   "id": "1",
   "metadata": {},
   "outputs": [],
   "source": [
    "import pandas as pd\n",
    "import numpy as np\n",
    "\n",
    "from sklearn.model_selection import train_test_split, cross_val_score\n",
    "from sklearn.preprocessing import StandardScaler\n",
    "from sklearn.linear_model import LinearRegression\n",
    "from sklearn.ensemble import RandomForestRegressor\n",
    "from sklearn.metrics import mean_absolute_error, r2_score, mean_squared_error\n",
    "from sklearn.preprocessing import OrdinalEncoder\n",
    "\n",
    "import matplotlib.pyplot as plt\n",
    "import seaborn as sns\n",
    "\n",
    "import mlflow\n",
    "import mlflow.sklearn\n",
    "\n",
    "pd.set_option(\"display.max_columns\", None)\n",
    "sns.set_style(\"whitegrid\")\n",
    "\n",
    "mlflow.set_tracking_uri(\"../logs/mlruns\")\n",
    "mlflow.set_experiment(\"house_price_prediction\")"
   ]
  },
  {
   "cell_type": "code",
   "execution_count": null,
   "id": "2",
   "metadata": {},
   "outputs": [],
   "source": [
    "import sys\n",
    "import os\n",
    "\n",
    "# Adjust the path to your project root folder\n",
    "project_root = os.path.abspath(\n",
    "    os.path.join(\"..\")\n",
    ")  # from notebooks/ up one level\n",
    "\n",
    "if project_root not in sys.path:\n",
    "    sys.path.insert(0, project_root)\n",
    "\n",
    "from src.data_loading.data_loading.data_loader import load_data_from_json\n",
    "from src.data_loading.preprocessing.preprocessing import preprocess_df\n",
    "\n",
    "\n",
    "df_raw = load_data_from_json(\"../data/parsed_json/*.json\")\n",
    "df_clean = preprocess_df(df_raw)\n",
    "df_clean\n",
    "df = df_clean.copy()"
   ]
  },
  {
   "cell_type": "code",
   "execution_count": null,
   "id": "3",
   "metadata": {},
   "outputs": [],
   "source": [
    "df.head()"
   ]
  },
  {
   "cell_type": "code",
   "execution_count": null,
   "id": "4",
   "metadata": {},
   "outputs": [],
   "source": [
    "df.columns"
   ]
  },
  {
   "cell_type": "markdown",
   "id": "5",
   "metadata": {},
   "source": [
    "#### 2. Load and prep data\n"
   ]
  },
  {
   "cell_type": "code",
   "execution_count": null,
   "id": "6",
   "metadata": {},
   "outputs": [],
   "source": [
    "def clean_year(year):\n",
    "    if isinstance(year, str):\n",
    "        if year.startswith(\"Voor\"):  # e.g., \"Voor 1906\"\n",
    "            return int(year.split()[-1]) - 1  # use 1905\n",
    "        elif year.startswith(\"Na\"):  # e.g., \"Na 2020\"\n",
    "            return int(year.split()[-1]) + 1  # use 2021\n",
    "        elif year.isdigit():\n",
    "            return int(year)\n",
    "        else:\n",
    "            return None  # invalid string\n",
    "    elif isinstance(year, (int, float)):\n",
    "        return int(year)\n",
    "    else:\n",
    "        return None\n",
    "\n",
    "\n",
    "df[\"year_of_construction\"] = df[\"year_of_construction\"].apply(clean_year)\n",
    "df[\"year_of_construction\"] = df[\"year_of_construction\"].fillna(\n",
    "    df[\"year_of_construction\"].median()\n",
    ")"
   ]
  },
  {
   "cell_type": "code",
   "execution_count": null,
   "id": "7",
   "metadata": {},
   "outputs": [],
   "source": [
    "numeric_cols = [\"bedrooms\", \"nr_rooms\", \"bathrooms\", \"toilets\"]\n",
    "\n",
    "df[numeric_cols] = df[numeric_cols].apply(pd.to_numeric, errors=\"coerce\")"
   ]
  },
  {
   "cell_type": "code",
   "execution_count": null,
   "id": "8",
   "metadata": {},
   "outputs": [],
   "source": [
    "df = df[df[\"price_num\"].notna()]"
   ]
  },
  {
   "cell_type": "code",
   "execution_count": null,
   "id": "9",
   "metadata": {},
   "outputs": [],
   "source": [
    "linear_features = [\n",
    "    \"size_num\",\n",
    "    \"bedrooms\",\n",
    "    \"year_of_construction\",\n",
    "    \"nr_rooms\",\n",
    "    \"bathrooms\",\n",
    "    \"toilets\",\n",
    "    \"contribution_vve_num\",\n",
    "    \"external_storage_num\",\n",
    "    \"inhabitants_in_neighborhood\",\n",
    "    \"families_with_children_pct\",\n",
    "    \"price_per_m2_neighborhood\",\n",
    "]\n",
    "target = \"price_num\"\n",
    "\n",
    "X = df[linear_features].replace(\"N/A\", np.nan).fillna(0)\n",
    "y = df[target]\n",
    "\n",
    "X_train, X_test, y_train, y_test = train_test_split(\n",
    "    X, y, test_size=0.2, random_state=42\n",
    ")\n",
    "\n",
    "scaler = StandardScaler()\n",
    "X_train_scaled = scaler.fit_transform(X_train)\n",
    "X_test_scaled = scaler.transform(X_test)"
   ]
  },
  {
   "cell_type": "markdown",
   "id": "10",
   "metadata": {},
   "source": [
    "#### 3. Linear Regression\n"
   ]
  },
  {
   "cell_type": "code",
   "execution_count": null,
   "id": "11",
   "metadata": {},
   "outputs": [],
   "source": [
    "with mlflow.start_run(run_name=\"Linear_Regression\"):\n",
    "\n",
    "    lr = LinearRegression()\n",
    "    lr.fit(X_train_scaled, y_train)\n",
    "\n",
    "    y_train_pred = lr.predict(X_train_scaled)\n",
    "    y_test_pred = lr.predict(X_test_scaled)\n",
    "\n",
    "    train_rmse = np.sqrt(mean_squared_error(y_train, y_train_pred))\n",
    "    train_r2 = r2_score(y_train, y_train_pred)\n",
    "\n",
    "    test_rmse = np.sqrt(mean_squared_error(y_test, y_test_pred))\n",
    "    test_r2 = r2_score(y_test, y_test_pred)\n",
    "\n",
    "    print(\n",
    "        f\"Linear Regression train RMSE: {train_rmse:.2f}, R2: {train_r2:.3f}\"\n",
    "    )\n",
    "    print(f\"Linear Regression test RMSE: {test_rmse:.2f}, R2: {test_r2:.3f}\")\n",
    "\n",
    "    # Log to MLflow\n",
    "    mlflow.sklearn.log_model(lr, \"linear_regression_model\")\n",
    "    mlflow.log_metric(\"train_rmse\", train_rmse)\n",
    "    mlflow.log_metric(\"train_r2\", train_r2)\n",
    "    mlflow.log_metric(\"test_rmse\", test_rmse)\n",
    "    mlflow.log_metric(\"test_r2\", test_r2)"
   ]
  },
  {
   "cell_type": "markdown",
   "id": "12",
   "metadata": {},
   "source": [
    "#### 4. Random Forest Regression\n"
   ]
  },
  {
   "cell_type": "code",
   "execution_count": null,
   "id": "13",
   "metadata": {},
   "outputs": [],
   "source": [
    "all_features = [\n",
    "    \"size_num\",\n",
    "    \"bedrooms\",\n",
    "    \"energy_label\",\n",
    "    \"year_of_construction\",\n",
    "    \"nr_rooms\",\n",
    "    \"bathrooms\",\n",
    "    \"toilets\",\n",
    "    \"contribution_vve_num\",\n",
    "    \"external_storage_num\",\n",
    "    \"has_mechanische_ventilatie\",\n",
    "    \"has_tv_kabel\",\n",
    "    \"has_lift\",\n",
    "    \"has_natuurlijke_ventilatie\",\n",
    "    \"has_n/a\",\n",
    "    \"has_schuifpui\",\n",
    "    \"has_glasvezelkabel\",\n",
    "    \"has_frans_balkon\",\n",
    "    \"has_buitenzonwering\",\n",
    "    \"has_zonnepanelen\",\n",
    "    \"has_airconditioning\",\n",
    "    \"has_balansventilatie\",\n",
    "    \"has_dakraam\",\n",
    "    \"has_alarminstallatie\",\n",
    "    \"has_domotica\",\n",
    "    \"has_rookkanaal\",\n",
    "    \"has_elektra\",\n",
    "    \"has_sauna\",\n",
    "    \"has_zonnecollectoren\",\n",
    "    \"has_cctv\",\n",
    "    \"has_rolluiken\",\n",
    "    \"has_stromend_water\",\n",
    "    \"has_satellietschotel\",\n",
    "    \"num_facilities\",\n",
    "    \"inhabitants_in_neighborhood\",\n",
    "    \"families_with_children_pct\",\n",
    "    \"price_per_m2_neighborhood\",\n",
    "]\n",
    "\n",
    "X = df[all_features].replace(\"N/A\", np.nan).fillna(0)\n",
    "\n",
    "X[\"energy_label\"] = X[\"energy_label\"].replace({0: \"G\"})\n",
    "energy_order = [\n",
    "    \"G\",\n",
    "    \"F\",\n",
    "    \"E\",\n",
    "    \"D\",\n",
    "    \"C\",\n",
    "    \"B\",\n",
    "    \"A\",\n",
    "    \"A+\",\n",
    "    \"A++\",\n",
    "    \"A+++\",\n",
    "    \"A++++\",\n",
    "]\n",
    "encoder = OrdinalEncoder(categories=[energy_order])\n",
    "X[\"energy_label_encoded\"] = encoder.fit_transform(X[[\"energy_label\"]])\n",
    "X = X.drop(columns=[\"energy_label\"])\n",
    "\n",
    "y = df[target]\n",
    "\n",
    "X_train, X_test, y_train, y_test = train_test_split(\n",
    "    X, y, test_size=0.2, random_state=42\n",
    ")\n",
    "\n",
    "# scaler = StandardScaler()\n",
    "# X_train_scaled = scaler.fit_transform(X_train)\n",
    "# X_test_scaled = scaler.transform(X_test)"
   ]
  },
  {
   "cell_type": "code",
   "execution_count": null,
   "id": "14",
   "metadata": {},
   "outputs": [],
   "source": [
    "X.energy_label_encoded.unique()"
   ]
  },
  {
   "cell_type": "code",
   "execution_count": null,
   "id": "15",
   "metadata": {},
   "outputs": [],
   "source": [
    "with mlflow.start_run(run_name=\"Random_Forest_Regression\"):\n",
    "\n",
    "    rf = RandomForestRegressor(n_estimators=200, max_depth=10, random_state=42)\n",
    "    rf.fit(X_train, y_train)\n",
    "\n",
    "    y_train_pred = rf.predict(X_train)\n",
    "    y_test_pred = rf.predict(X_test)\n",
    "\n",
    "    train_rmse = np.sqrt(mean_squared_error(y_train, y_train_pred))\n",
    "    train_r2 = r2_score(y_train, y_train_pred)\n",
    "\n",
    "    test_rmse = np.sqrt(mean_squared_error(y_test, y_test_pred))\n",
    "    test_r2 = r2_score(y_test, y_test_pred)\n",
    "\n",
    "    print(\n",
    "        f\"Linear Regression train RMSE: {train_rmse:.2f}, R2: {train_r2:.3f}\"\n",
    "    )\n",
    "    print(f\"Linear Regression test RMSE: {test_rmse:.2f}, R2: {test_r2:.3f}\")\n",
    "\n",
    "    # Log to MLflow\n",
    "    mlflow.sklearn.log_model(rf, \"random_forest_regression_model\")\n",
    "    mlflow.log_metric(\"train_rmse\", train_rmse)\n",
    "    mlflow.log_metric(\"train_r2\", train_r2)\n",
    "    mlflow.log_metric(\"test_rmse\", test_rmse)\n",
    "    mlflow.log_metric(\"test_r2\", test_r2)"
   ]
  },
  {
   "cell_type": "markdown",
   "id": "16",
   "metadata": {},
   "source": [
    "#### 5. MLflow UI Reminder\n"
   ]
  },
  {
   "cell_type": "code",
   "execution_count": null,
   "id": "17",
   "metadata": {},
   "outputs": [],
   "source": []
  }
 ],
 "metadata": {
  "kernelspec": {
   "display_name": "Python 3",
   "language": "python",
   "name": "python3"
  },
  "language_info": {
   "codemirror_mode": {
    "name": "ipython",
    "version": 3
   },
   "file_extension": ".py",
   "mimetype": "text/x-python",
   "name": "python",
   "nbconvert_exporter": "python",
   "pygments_lexer": "ipython3",
   "version": "3.10.11"
  }
 },
 "nbformat": 4,
 "nbformat_minor": 5
}
