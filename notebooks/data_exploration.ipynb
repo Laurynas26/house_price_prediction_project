{
 "cells": [
  {
   "cell_type": "code",
   "execution_count": null,
   "id": "0",
   "metadata": {},
   "outputs": [],
   "source": [
    "import pandas as pd\n",
    "import json\n",
    "import glob\n",
    "import numpy as np "
   ]
  },
  {
   "cell_type": "code",
   "execution_count": null,
   "id": "1",
   "metadata": {},
   "outputs": [],
   "source": [
    "import re"
   ]
  },
  {
   "cell_type": "code",
   "execution_count": null,
   "id": "2",
   "metadata": {},
   "outputs": [],
   "source": [
    "import seaborn as sns\n",
    "import matplotlib.pyplot as plt"
   ]
  },
  {
   "cell_type": "code",
   "execution_count": null,
   "id": "3",
   "metadata": {},
   "outputs": [],
   "source": [
    "import sys\n",
    "import os\n",
    "from pathlib import Path\n",
    "import yaml\n",
    "\n",
    "\n",
    "# Adjust the path to your project root folder\n",
    "project_root = os.path.abspath(\n",
    "    os.path.join(\"..\")\n",
    ")  # from notebooks/ up one level\n",
    "\n",
    "if project_root not in sys.path:\n",
    "    sys.path.insert(0, project_root)\n",
    "\n",
    "from src.data_loading.data_loading.data_loader import load_data_from_json\n",
    "from src.data_loading.preprocessing.preprocessing import preprocess_df\n",
    "from src.data_loading.preprocessing.imputation import impute_missing_values\n",
    "\n",
    "\n",
    "# go two levels up from notebook dir -> project root\n",
    "ROOT = (\n",
    "    Path(__file__).resolve().parents[2]\n",
    "    if \"__file__\" in globals()\n",
    "    else Path.cwd().parents[1]\n",
    ")\n",
    "CONFIG_PATH = (\n",
    "    ROOT\n",
    "    / \"house_price_prediction_project\"\n",
    "    / \"config\"\n",
    "    / \"preprocessing_config.yaml\"\n",
    ")\n",
    "\n",
    "with open(CONFIG_PATH) as f:\n",
    "    CONFIG = yaml.safe_load(f)\n",
    "\n",
    "df_raw = load_data_from_json(\"../data/parsed_json/*.json\")\n",
    "df_clean = preprocess_df(\n",
    "    df_raw,\n",
    "    drop_raw=CONFIG[\"preprocessing\"][\"drop_raw\"],\n",
    "    numeric_cols=CONFIG[\"preprocessing\"][\"numeric_cols\"],\n",
    ")\n",
    "df_clean = impute_missing_values(\n",
    "    df_clean, CONFIG[\"preprocessing\"][\"imputation\"]\n",
    ")\n",
    "# Drop price_num NaNs for the training of the model\n",
    "# df_clean = df_clean[df_clean[\"price_num\"].notna()]\n",
    "df = df_clean.copy()"
   ]
  },
  {
   "cell_type": "code",
   "execution_count": null,
   "id": "4",
   "metadata": {},
   "outputs": [],
   "source": [
    "# import os\n",
    "# import shutil\n",
    "# import json\n",
    "\n",
    "# new_folder = \"../data/parsed_json\"\n",
    "# old_folder = \"../data/parsed_json_old\"\n",
    "\n",
    "# def load_address_to_file(folder):\n",
    "#     mapping = {}\n",
    "#     for filename in os.listdir(folder):\n",
    "#         if not filename.endswith(\".json\"):\n",
    "#             continue\n",
    "#         path = os.path.join(folder, filename)\n",
    "#         try:\n",
    "#             with open(path, \"r\", encoding=\"utf-8\") as f:\n",
    "#                 data = json.load(f)\n",
    "#                 if \"address\" in data:\n",
    "#                     mapping[data[\"address\"]] = path\n",
    "#         except Exception as e:\n",
    "#             print(f\"⚠️ Error reading {path}: {e}\")\n",
    "#     return mapping\n",
    "\n",
    "# # Map addresses to file paths\n",
    "# new_map = load_address_to_file(new_folder)\n",
    "# old_map = load_address_to_file(old_folder)\n",
    "\n",
    "# # Find addresses missing in new scrape\n",
    "# missing_addresses = set(old_map.keys()) - set(new_map.keys())\n",
    "\n",
    "# print(f\"Found {len(missing_addresses)} properties missing in new scrape.\")\n",
    "\n",
    "# # Copy them into new folder\n",
    "# for addr in missing_addresses:\n",
    "#     old_file = old_map[addr]\n",
    "#     filename = os.path.basename(old_file)\n",
    "#     new_file = os.path.join(new_folder, filename)\n",
    "\n",
    "#     if not os.path.exists(new_file):  # avoid overwriting\n",
    "#         shutil.copy2(old_file, new_file)\n",
    "#         print(f\"➕ Added {filename} for {addr}\")\n"
   ]
  },
  {
   "cell_type": "code",
   "execution_count": null,
   "id": "5",
   "metadata": {},
   "outputs": [],
   "source": [
    "df"
   ]
  },
  {
   "cell_type": "code",
   "execution_count": null,
   "id": "6",
   "metadata": {},
   "outputs": [],
   "source": [
    "df.replace(\"N/A\", pd.NA, inplace=True)"
   ]
  },
  {
   "cell_type": "markdown",
   "id": "7",
   "metadata": {},
   "source": [
    "Will refactor below code"
   ]
  },
  {
   "cell_type": "code",
   "execution_count": null,
   "id": "8",
   "metadata": {},
   "outputs": [],
   "source": [
    "# df[\"bedrooms_num\"] = pd.to_numeric(df[\"bedrooms\"], errors=\"coerce\")\n",
    "# df[\"nr_rooms_num\"] = pd.to_numeric(df[\"nr_rooms\"], errors=\"coerce\")\n",
    "# df[\"bathrooms_num\"] = pd.to_numeric(df[\"bathrooms\"], errors=\"coerce\")\n",
    "# df[\"year_of_construction_num\"] = pd.to_numeric(\n",
    "#     df[\"year_of_construction\"], errors=\"coerce\"\n",
    "# )\n",
    "\n",
    "df[\n",
    "    [\n",
    "        \"price_num\",\n",
    "        \"size_num\",\n",
    "        \"bedrooms\",\n",
    "        \"nr_rooms\",\n",
    "        \"bathrooms\",\n",
    "        \"year_of_construction_num\",\n",
    "    ]\n",
    "].describe()"
   ]
  },
  {
   "cell_type": "code",
   "execution_count": null,
   "id": "9",
   "metadata": {},
   "outputs": [],
   "source": [
    "# # Price Distribution\n",
    "# sns.histplot(df[\"price_num\"].dropna(), bins=15)\n",
    "# plt.title(\"Price Distribution\")\n",
    "# plt.xlabel(\"Price (€)\")\n",
    "# # Adjust x-axis ticks\n",
    "# max_price = df[\"price_num\"].max()\n",
    "# min_price = df[\"price_num\"].min()\n",
    "\n",
    "# step = 5000000 # set step size (e.g., €50k)\n",
    "# plt.xticks(np.arange(min_price, max_price + step, step))\n",
    "# plt.show()\n",
    "\n",
    "import matplotlib.ticker as ticker\n",
    "\n",
    "sns.histplot(df[\"price_num\"].dropna(), bins=15)\n",
    "plt.title(\"Price Distribution\")\n",
    "plt.xlabel(\"Price (€)\")\n",
    "\n",
    "# Format ticks as euros with \"k\"\n",
    "ax = plt.gca()\n",
    "ax.xaxis.set_major_locator(ticker.MultipleLocator(500000))  # step = 500k\n",
    "ax.xaxis.set_major_formatter(\n",
    "    ticker.FuncFormatter(lambda x, _: f\"€{int(x/1000)}k\")\n",
    ")\n",
    "plt.xticks(rotation=45, ha=\"right\")\n",
    "plt.show()\n",
    "\n",
    "# Size Distribution\n",
    "sns.histplot(df[\"size_num\"].dropna(), bins=15)\n",
    "plt.title(\"Size Distribution\")\n",
    "plt.xlabel(\"Size (m²)\")\n",
    "plt.show()\n",
    "\n",
    "# Bedrooms Count\n",
    "sns.countplot(x=\"bedrooms\", data=df)\n",
    "plt.title(\"Bedrooms Count\")\n",
    "plt.show()\n",
    "\n",
    "# Year of construction histogram\n",
    "sns.histplot(df[\"year_of_construction_num\"].dropna(), bins=10)\n",
    "plt.title(\"Year of Construction\")\n",
    "plt.show()"
   ]
  },
  {
   "cell_type": "code",
   "execution_count": null,
   "id": "10",
   "metadata": {},
   "outputs": [],
   "source": [
    "# Neighborhood Counts\n",
    "print(df[\"neighborhood\"].value_counts())\n",
    "# Energy label counts\n",
    "print(df[\"energy_label\"].value_counts())"
   ]
  },
  {
   "cell_type": "code",
   "execution_count": null,
   "id": "11",
   "metadata": {},
   "outputs": [],
   "source": [
    "# Facilities unique values (might be comma separated string)\n",
    "print(df[\"facilities\"].dropna().head())\n",
    "\n",
    "# Missing values\n",
    "print(df.isna().sum())"
   ]
  },
  {
   "cell_type": "markdown",
   "id": "12",
   "metadata": {},
   "source": [
    "#### 0. Missing values\n"
   ]
  },
  {
   "cell_type": "code",
   "execution_count": null,
   "id": "13",
   "metadata": {},
   "outputs": [],
   "source": [
    "import seaborn as sns\n",
    "import matplotlib.pyplot as plt\n",
    "\n",
    "sns.heatmap(df.isna(), cbar=False)\n",
    "plt.title(\"Missing Values Heatmap\")\n",
    "plt.show()\n",
    "\n",
    "print(df.isna().sum().sort_values(ascending=False))"
   ]
  },
  {
   "cell_type": "markdown",
   "id": "14",
   "metadata": {},
   "source": [
    "#### 1. Correlation Analysis of Numeric Features\n"
   ]
  },
  {
   "cell_type": "code",
   "execution_count": null,
   "id": "15",
   "metadata": {},
   "outputs": [],
   "source": [
    "df.corr(numeric_only=True)[\"price_num\"].sort_values(ascending=False)"
   ]
  },
  {
   "cell_type": "code",
   "execution_count": null,
   "id": "16",
   "metadata": {},
   "outputs": [],
   "source": [
    "corr = df.corr(numeric_only=True)\n",
    "print(corr.columns)"
   ]
  },
  {
   "cell_type": "code",
   "execution_count": null,
   "id": "17",
   "metadata": {},
   "outputs": [],
   "source": [
    "plt.scatter(df[\"size_num\"], df[\"price_num\"])\n",
    "plt.xlabel(\"Living Area (m²)\")\n",
    "plt.ylabel(\"Price (€)\")\n",
    "plt.title(\"Price vs Living Area\")\n",
    "plt.show()"
   ]
  },
  {
   "cell_type": "code",
   "execution_count": null,
   "id": "18",
   "metadata": {},
   "outputs": [],
   "source": [
    "numeric_cols = [\n",
    "    \"price_num\",\n",
    "    \"size_num\",\n",
    "    \"bedrooms\",\n",
    "    \"nr_rooms\",\n",
    "    \"bathrooms\",\n",
    "    \"year_of_construction_num\",\n",
    "]\n",
    "\n",
    "corr = df[numeric_cols].corr()\n",
    "\n",
    "plt.figure(figsize=(8, 6))\n",
    "sns.heatmap(corr, annot=True, cmap=\"coolwarm\", fmt=\".2f\")\n",
    "plt.title(\"Correlation Matrix of Numeric Features\")\n",
    "plt.show()"
   ]
  },
  {
   "cell_type": "markdown",
   "id": "19",
   "metadata": {},
   "source": [
    "#### 2. Price per m² Calculation & Analysis\n",
    "\n",
    "Derive price per m² from price and size, check its distribution and relation to neighborhood average\n"
   ]
  },
  {
   "cell_type": "code",
   "execution_count": null,
   "id": "20",
   "metadata": {},
   "outputs": [],
   "source": [
    "df[\"price_per_m2\"] = df[\"price_num\"] / df[\"size_num\"]\n",
    "\n",
    "sns.histplot(df[\"price_per_m2\"].dropna(), bins=20)\n",
    "plt.title(\"Price per m² Distribution\")\n",
    "plt.xlabel(\"Price per m² (€)\")\n",
    "plt.show()"
   ]
  },
  {
   "cell_type": "code",
   "execution_count": null,
   "id": "21",
   "metadata": {},
   "outputs": [],
   "source": [
    "df.columns"
   ]
  },
  {
   "cell_type": "code",
   "execution_count": null,
   "id": "22",
   "metadata": {},
   "outputs": [],
   "source": [
    "sns.scatterplot(x=\"price_per_m2_neighborhood\", y=\"price_per_m2\", data=df)\n",
    "plt.title(\"Listing Price/m² vs Neighborhood Avg Price/m²\")\n",
    "plt.xlabel(\"Neighborhood Avg Price/m² (€)\")\n",
    "plt.ylabel(\"Listing Price/m² (€)\")\n",
    "plt.show()"
   ]
  },
  {
   "cell_type": "markdown",
   "id": "23",
   "metadata": {},
   "source": [
    "#### 3. Outlier Detection in Price or Price per m²\n",
    "\n",
    "Visualize and identify listings with suspiciously high or low prices\n"
   ]
  },
  {
   "cell_type": "code",
   "execution_count": null,
   "id": "24",
   "metadata": {},
   "outputs": [],
   "source": [
    "Q1 = df[\"price_num\"].quantile(0.25)\n",
    "Q3 = df[\"price_num\"].quantile(0.75)\n",
    "\n",
    "IQR = Q3 - Q1\n",
    "\n",
    "outliers = df[\n",
    "    (df[\"price_num\"] < (Q1 - 1.5 * IQR)) | (df[\"price_num\"] > (Q3 + 1.5 * IQR))\n",
    "]\n",
    "\n",
    "print(f\"Found {len(outliers)} price outliers\")\n",
    "print(outliers[[\"address\", \"price_num\"]])"
   ]
  },
  {
   "cell_type": "markdown",
   "id": "25",
   "metadata": {},
   "source": [
    "#### 4. Feature Engineering: Extract Useful Info from Text\n",
    "\n",
    "Example: Count number of facilities\n"
   ]
  },
  {
   "cell_type": "code",
   "execution_count": null,
   "id": "26",
   "metadata": {},
   "outputs": [],
   "source": [
    "df[\"num_facilities\"] = df[\"facilities\"].apply(\n",
    "    lambda x: len(x.split(\",\")) if pd.notna(x) else 0\n",
    ")\n",
    "sns.histplot(df[\"num_facilities\"], bins=10)\n",
    "plt.title(\"Distribution of Number of Facilities\")\n",
    "plt.show()"
   ]
  },
  {
   "cell_type": "markdown",
   "id": "27",
   "metadata": {},
   "source": [
    "#### 5. Explore Missing Data Patterns\n"
   ]
  },
  {
   "cell_type": "code",
   "execution_count": null,
   "id": "28",
   "metadata": {},
   "outputs": [],
   "source": [
    "import missingno as msno\n",
    "\n",
    "msno.matrix(df)\n",
    "plt.show()\n",
    "\n",
    "msno.bar(df)\n",
    "plt.show()"
   ]
  },
  {
   "cell_type": "markdown",
   "id": "29",
   "metadata": {},
   "source": [
    "#### 6. Categorical Analysis\n",
    "\n",
    "Distribution of energy labels or balconies\n"
   ]
  },
  {
   "cell_type": "code",
   "execution_count": null,
   "id": "30",
   "metadata": {},
   "outputs": [],
   "source": [
    "sns.countplot(x=\"energy_label\", data=df)\n",
    "plt.title(\"Energy Label Distribution\")\n",
    "plt.show()\n",
    "\n",
    "sns.countplot(x=\"balcony\", data=df)\n",
    "plt.title(\"Balcony Availability\")\n",
    "plt.xticks(rotation=45)\n",
    "plt.show()"
   ]
  },
  {
   "cell_type": "code",
   "execution_count": null,
   "id": "31",
   "metadata": {},
   "outputs": [],
   "source": [
    "df"
   ]
  },
  {
   "cell_type": "markdown",
   "id": "32",
   "metadata": {},
   "source": [
    "#### Non linear relationships"
   ]
  },
  {
   "cell_type": "code",
   "execution_count": null,
   "id": "33",
   "metadata": {},
   "outputs": [],
   "source": [
    "import statsmodels.api as sm\n",
    "import numpy as np\n",
    "\n",
    "# Drop NA\n",
    "df_clean = df[[\"size_num\", \"price_num\"]].dropna()\n",
    "\n",
    "# Fit LOWESS\n",
    "lowess = sm.nonparametric.lowess\n",
    "z = lowess(df_clean[\"price_num\"], df_clean[\"size_num\"], frac=0.3)\n",
    "\n",
    "# Plot\n",
    "plt.scatter(df_clean[\"size_num\"], df_clean[\"price_num\"], s=20, alpha=0.5)\n",
    "plt.plot(z[:,0], z[:,1], color=\"red\", linewidth=2)\n",
    "plt.title(\"Price vs Size with LOWESS smoothing\")\n",
    "plt.xlabel(\"Size (m²)\")\n",
    "plt.ylabel(\"Price (€)\")\n",
    "plt.show()\n"
   ]
  },
  {
   "cell_type": "markdown",
   "id": "34",
   "metadata": {},
   "source": [
    "#### Feature Importance via Tree Models"
   ]
  },
  {
   "cell_type": "code",
   "execution_count": null,
   "id": "35",
   "metadata": {},
   "outputs": [],
   "source": [
    "from sklearn.ensemble import RandomForestRegressor\n",
    "df = df.dropna(subset=[\"price_num\"])\n",
    "features = [\"size_num\", \"bedrooms\", \"year_of_construction_num\", \"nr_rooms\"]\n",
    "X = df[features].fillna(0)\n",
    "y = df[\"price_num\"]\n",
    "\n",
    "rf = RandomForestRegressor(n_estimators=200, random_state=42)\n",
    "rf.fit(X, y)\n",
    "importances = pd.Series(rf.feature_importances_, index=features)\n",
    "print(importances.sort_values(ascending=False))\n"
   ]
  },
  {
   "cell_type": "markdown",
   "id": "36",
   "metadata": {},
   "source": [
    "#### Neighborhood clusters"
   ]
  },
  {
   "cell_type": "code",
   "execution_count": null,
   "id": "37",
   "metadata": {},
   "outputs": [],
   "source": [
    "# Extract first 3 digits of postal code\n",
    "df[\"postcode_area\"] = df[\"postal_code_clean\"].str[:3]\n",
    "\n",
    "\n",
    "postcode_stats = df.groupby(\"postcode_area\").agg({\n",
    "    \"price_num\": \"mean\",\n",
    "    \"size_num\": \"mean\",\n",
    "    \"nr_rooms\": \"mean\",\n",
    "    \"bedrooms\": \"mean\",\n",
    "    \"address\": \"count\"  # number of listings\n",
    "}).rename(columns={\"address\": \"num_listings\"})\n"
   ]
  },
  {
   "cell_type": "code",
   "execution_count": null,
   "id": "38",
   "metadata": {},
   "outputs": [],
   "source": [
    "from sklearn.preprocessing import StandardScaler\n",
    "from sklearn.cluster import KMeans\n",
    "\n",
    "scaler = StandardScaler()\n",
    "features_scaled = scaler.fit_transform(postcode_stats)\n",
    "\n",
    "kmeans = KMeans(n_clusters=4, random_state=42)\n",
    "postcode_stats[\"cluster\"] = kmeans.fit_predict(features_scaled)\n"
   ]
  },
  {
   "cell_type": "code",
   "execution_count": null,
   "id": "39",
   "metadata": {},
   "outputs": [],
   "source": [
    "import seaborn as sns\n",
    "import matplotlib.pyplot as plt\n",
    "\n",
    "plt.figure(figsize=(8,6))\n",
    "sns.scatterplot(\n",
    "    x=postcode_stats[\"size_num\"],\n",
    "    y=postcode_stats[\"price_num\"],\n",
    "    hue=postcode_stats[\"cluster\"],\n",
    "    palette=\"Set2\",\n",
    "    s=100\n",
    ")\n",
    "\n",
    "for i, name in enumerate(postcode_stats.index):\n",
    "    plt.text(\n",
    "        postcode_stats[\"size_num\"][i],\n",
    "        postcode_stats[\"price_num\"][i],\n",
    "        name,\n",
    "        fontsize=8,\n",
    "        alpha=0.7\n",
    "    )\n",
    "\n",
    "plt.title(\"Postcode Area Clusters by Avg Price & Size\")\n",
    "plt.xlabel(\"Average Size (m²)\")\n",
    "plt.ylabel(\"Average Price (€)\")\n",
    "plt.show()\n"
   ]
  },
  {
   "cell_type": "markdown",
   "id": "40",
   "metadata": {},
   "source": [
    "#### Now let's use amsterdam map and pc4"
   ]
  },
  {
   "cell_type": "code",
   "execution_count": null,
   "id": "41",
   "metadata": {},
   "outputs": [],
   "source": [
    "postcode4_stats = df.groupby(\"postal_code_clean\").agg({\n",
    "    \"price_num\": \"mean\",\n",
    "    \"size_num\": \"mean\",\n",
    "    \"nr_rooms\": \"mean\",\n",
    "    \"bedrooms\": \"mean\",\n",
    "    \"address\": \"count\"  # number of listings\n",
    "}).rename(columns={\"address\": \"num_listings\"})\n",
    "\n",
    "# Optional: filter low-count PC4s\n",
    "postcode4_stats = postcode4_stats[postcode4_stats[\"num_listings\"] >= 3]\n",
    "\n"
   ]
  },
  {
   "cell_type": "code",
   "execution_count": null,
   "id": "42",
   "metadata": {},
   "outputs": [],
   "source": [
    "from sklearn.preprocessing import StandardScaler\n",
    "from sklearn.cluster import KMeans\n",
    "\n",
    "scaler = StandardScaler()\n",
    "features_scaled = scaler.fit_transform(postcode4_stats)\n",
    "\n",
    "kmeans = KMeans(n_clusters=5, random_state=42)\n",
    "postcode4_stats[\"cluster\"] = kmeans.fit_predict(features_scaled)\n"
   ]
  },
  {
   "cell_type": "code",
   "execution_count": null,
   "id": "43",
   "metadata": {},
   "outputs": [],
   "source": [
    "import geopandas as gpd\n",
    "# Load PC4 shapefile (replace path with your extracted .shp file)\n",
    "gdf = gpd.read_file(\"../data/georef-netherlands-postcode-pc4/georef-netherlands-postcode-pc4.shp\")\n",
    "\n",
    "# Quick check\n",
    "print(gdf.head())\n",
    "print(gdf.crs)  # check coordinate system\n",
    "\n"
   ]
  },
  {
   "cell_type": "code",
   "execution_count": null,
   "id": "44",
   "metadata": {},
   "outputs": [],
   "source": [
    "postcode4_stats = postcode4_stats.copy()\n",
    "postcode4_stats[\"pc4_code\"] = postcode4_stats.index.str[:4]\n",
    "postcode4_stats.set_index(\"pc4_code\", inplace=True)"
   ]
  },
  {
   "cell_type": "code",
   "execution_count": null,
   "id": "45",
   "metadata": {},
   "outputs": [],
   "source": [
    "# # Merge clusters into the GeoDataFrame using the correct column\n",
    "# gdf = gdf.merge(postcode4_stats[[\"cluster\"]], left_on=\"pc4_code\", right_index=True, how=\"left\")\n",
    "\n",
    "# # Check the merge\n",
    "# print(gdf[[\"pc4_code\", \"cluster\"]].head())\n"
   ]
  },
  {
   "cell_type": "code",
   "execution_count": null,
   "id": "46",
   "metadata": {},
   "outputs": [],
   "source": [
    "# Make a copy to be safe\n",
    "postcode4_stats = postcode4_stats.copy()\n",
    "\n",
    "# If your index is full postal_code_clean like '1011 DG'\n",
    "postcode4_stats[\"pc4_code\"] = postcode4_stats.index.str[:4]\n",
    "\n",
    "# Set pc4_code as index for merging\n",
    "postcode4_stats.set_index(\"pc4_code\", inplace=True)\n",
    "\n",
    "# Optional: check\n",
    "print(postcode4_stats.head())\n"
   ]
  },
  {
   "cell_type": "code",
   "execution_count": null,
   "id": "47",
   "metadata": {},
   "outputs": [],
   "source": [
    "# # Merge clusters into GeoDataFrame\n",
    "# gdf = gdf.merge(postcode4_stats[[\"cluster\"]], left_on=\"pc4_code\", right_index=True, how=\"left\")\n",
    "\n",
    "# # Check merge\n",
    "# print(gdf[[\"pc4_code\", \"cluster\"]].head(10))\n"
   ]
  },
  {
   "cell_type": "code",
   "execution_count": null,
   "id": "48",
   "metadata": {},
   "outputs": [],
   "source": [
    "missing = set(gdf[\"pc4_code\"]) - set(postcode4_stats.index)\n",
    "print(\"PC4s in shapefile but not in dataset:\", missing)\n"
   ]
  },
  {
   "cell_type": "code",
   "execution_count": null,
   "id": "49",
   "metadata": {},
   "outputs": [],
   "source": [
    "# Merge cluster and stats into GeoDataFrame\n",
    "gdf = gdf.merge(\n",
    "    postcode4_stats[[\"cluster\", \"price_num\", \"size_num\", \"num_listings\"]],\n",
    "    left_on=\"pc4_code\",\n",
    "    right_index=True,\n",
    "    how=\"left\"\n",
    ")\n",
    "\n",
    "# Replace NaN clusters with -1 for visualization\n",
    "gdf[\"cluster_fill\"] = gdf[\"cluster\"].fillna(-1)\n"
   ]
  },
  {
   "cell_type": "code",
   "execution_count": null,
   "id": "50",
   "metadata": {},
   "outputs": [],
   "source": [
    "gdf"
   ]
  },
  {
   "cell_type": "code",
   "execution_count": null,
   "id": "51",
   "metadata": {},
   "outputs": [],
   "source": [
    "import matplotlib.pyplot as plt\n",
    "\n",
    "fig, ax = plt.subplots(figsize=(12,12))\n",
    "\n",
    "# Plot boundaries\n",
    "gdf.boundary.plot(ax=ax, linewidth=0.5, color='black')\n",
    "\n",
    "# Plot clusters, with NaNs in light gray\n",
    "gdf.plot(column='cluster', ax=ax, legend=True, cmap='Set2', \n",
    "         legend_kwds={'title': \"Cluster\"},\n",
    "         missing_kwds={\"color\": \"lightgrey\", \"label\": \"No data\"})\n",
    "\n",
    "plt.title(\"Amsterdam Postcode Area Clusters (PC4)\")\n",
    "plt.axis('off')  # optional\n",
    "plt.show()\n"
   ]
  },
  {
   "cell_type": "code",
   "execution_count": null,
   "id": "52",
   "metadata": {},
   "outputs": [],
   "source": [
    "import branca.colormap as cm\n",
    "\n",
    "# Define colors for clusters, including NaN as light gray\n",
    "cluster_colors = {\n",
    "    -1: \"lightgray\",  # no data\n",
    "    0: \"#1f77b4\",\n",
    "    1: \"#ff7f0e\",\n",
    "    2: \"#2ca02c\",\n",
    "    3: \"#d62728\",\n",
    "    4: \"#9467bd\"\n",
    "}\n",
    "\n",
    "# Function to map cluster to color\n",
    "def style_function(feature):\n",
    "    cluster = feature[\"properties\"][\"cluster_fill\"]\n",
    "    return {\n",
    "        \"fillColor\": cluster_colors.get(cluster, \"lightgray\"),\n",
    "        \"color\": \"black\",\n",
    "        \"weight\": 0.5,\n",
    "        \"fillOpacity\": 0.7\n",
    "    }\n"
   ]
  },
  {
   "cell_type": "code",
   "execution_count": null,
   "id": "53",
   "metadata": {},
   "outputs": [],
   "source": [
    "import folium\n",
    "from folium.features import GeoJsonTooltip\n",
    "\n",
    "# Center map on Amsterdam\n",
    "m = folium.Map(location=[52.3702, 4.8952], zoom_start=12)\n",
    "\n",
    "# Add GeoJson layer with clusters and tooltips\n",
    "tooltip = GeoJsonTooltip(\n",
    "    fields=[\"pc4_code\", \"cluster\", \"price_num\", \"size_num\", \"num_listings\"],\n",
    "    aliases=[\"PC4:\", \"Cluster:\", \"Avg Price (€):\", \"Avg Size (m²):\", \"Listings:\"],\n",
    "    localize=True\n",
    ")\n",
    "\n",
    "folium.GeoJson(\n",
    "    gdf,\n",
    "    style_function=style_function,\n",
    "    tooltip=tooltip,\n",
    "    name=\"PC4 Clusters\"\n",
    ").add_to(m)\n",
    "\n",
    "# Add layer control\n",
    "folium.LayerControl().add_to(m)\n",
    "\n",
    "# Display map\n",
    "m\n"
   ]
  },
  {
   "cell_type": "code",
   "execution_count": null,
   "id": "54",
   "metadata": {},
   "outputs": [],
   "source": [
    "# Save interactive map to an HTML file\n",
    "m.save(\"amsterdam_clusters_map.html\")\n"
   ]
  },
  {
   "cell_type": "markdown",
   "id": "55",
   "metadata": {},
   "source": [
    "#### With Elbow method selecting clusters\n",
    "\n",
    "Too little clusters now"
   ]
  },
  {
   "cell_type": "code",
   "execution_count": null,
   "id": "56",
   "metadata": {},
   "outputs": [],
   "source": [
    "from sklearn.preprocessing import StandardScaler\n",
    "\n",
    "# Choose features for clustering\n",
    "features = [\"price_num\", \"size_num\", \"nr_rooms\", \"bedrooms\"]\n",
    "\n",
    "# Fill missing values with 0 (or consider median imputation)\n",
    "X = postcode4_stats[features].fillna(0)\n",
    "\n",
    "# Standardize features\n",
    "scaler = StandardScaler()\n",
    "X_scaled = scaler.fit_transform(X)\n"
   ]
  },
  {
   "cell_type": "code",
   "execution_count": null,
   "id": "57",
   "metadata": {},
   "outputs": [],
   "source": [
    "from sklearn.cluster import KMeans\n",
    "import matplotlib.pyplot as plt\n",
    "\n",
    "inertia = []\n",
    "K = range(2, 15)  # test 2 to 14 clusters\n",
    "\n",
    "for k in K:\n",
    "    km = KMeans(n_clusters=k, random_state=42)\n",
    "    km.fit(X_scaled)\n",
    "    inertia.append(km.inertia_)\n",
    "\n",
    "# Plot the elbow\n",
    "plt.figure(figsize=(8,5))\n",
    "plt.plot(K, inertia, marker='o')\n",
    "plt.xlabel(\"Number of clusters (k)\")\n",
    "plt.ylabel(\"Inertia\")\n",
    "plt.title(\"Elbow Method for Optimal k\")\n",
    "plt.show()\n"
   ]
  },
  {
   "cell_type": "code",
   "execution_count": null,
   "id": "58",
   "metadata": {},
   "outputs": [],
   "source": [
    "# ==============================\n",
    "# 1️⃣ Imports\n",
    "# ==============================\n",
    "import pandas as pd\n",
    "import geopandas as gpd\n",
    "import numpy as np\n",
    "from sklearn.preprocessing import StandardScaler\n",
    "from sklearn.cluster import KMeans\n",
    "import folium\n",
    "from folium.features import GeoJsonTooltip\n",
    "from branca.element import Template, MacroElement\n",
    "from shapely.geometry import Point\n",
    "\n",
    "# ==============================\n",
    "# 2️⃣ Load shapefile and dataset\n",
    "# ==============================\n",
    "gdf = gpd.read_file(\"../data/georef-netherlands-postcode-pc4/georef-netherlands-postcode-pc4.shp\")\n",
    "gdf[\"pc4_code\"] = gdf[\"pc4_code\"].astype(str).str.strip()\n",
    "\n",
    "df[\"pc4_code\"] = df[\"postal_code_clean\"].str[:4]\n",
    "\n",
    "# ==============================\n",
    "# 3️⃣ Aggregate stats per PC4\n",
    "# ==============================\n",
    "postcode4_stats = df.groupby(\"pc4_code\").agg(\n",
    "    price_num=(\"price_num\", \"mean\"),\n",
    "    size_num=(\"size_num\", \"mean\"),\n",
    "    nr_rooms=(\"nr_rooms\", \"mean\"),\n",
    "    bedrooms=(\"bedrooms\", \"mean\"),\n",
    "    num_listings=(\"price_num\", \"count\")\n",
    ").reset_index().set_index(\"pc4_code\")\n",
    "\n",
    "postcode4_stats[\"price_per_m2\"] = postcode4_stats[\"price_num\"] / postcode4_stats[\"size_num\"]\n",
    "\n",
    "# ==============================\n",
    "# 4️⃣ KMeans Clustering\n",
    "# ==============================\n",
    "features = [\"price_per_m2\", \"size_num\", \"nr_rooms\", \"bedrooms\"]\n",
    "X = postcode4_stats[features].fillna(0)\n",
    "X_scaled = StandardScaler().fit_transform(X)\n",
    "\n",
    "k = 10\n",
    "kmeans = KMeans(n_clusters=k, random_state=42)\n",
    "postcode4_stats[\"cluster\"] = kmeans.fit_predict(X_scaled)\n",
    "\n",
    "# ==============================\n",
    "# 5️⃣ Merge into GeoDataFrame\n",
    "# ==============================\n",
    "postcode4_stats.index = postcode4_stats.index.str.strip()\n",
    "gdf = gdf.merge(\n",
    "    postcode4_stats[[\"cluster\", \"price_num\", \"size_num\", \"num_listings\", \n",
    "                     \"price_per_m2\", \"nr_rooms\", \"bedrooms\"]],\n",
    "    left_on=\"pc4_code\",\n",
    "    right_index=True,\n",
    "    how=\"left\"\n",
    ")\n",
    "\n",
    "gdf[\"cluster_fill\"] = gdf[\"cluster\"].fillna(-1)\n",
    "\n",
    "# ==============================\n",
    "# 6️⃣ Neighborhood context\n",
    "# ==============================\n",
    "amsterdam_center = Point(4.8952, 52.3702)\n",
    "gdf = gdf.to_crs(epsg=4326)  # ensure WGS84\n",
    "\n",
    "gdf[\"centroid\"] = gdf.geometry.centroid\n",
    "gdf[\"dist_to_center_km\"] = gdf[\"centroid\"].distance(amsterdam_center) * 111  # approx km\n",
    "gdf[\"area_km2\"] = gdf.geometry.to_crs(epsg=3857).area / 1e6\n",
    "gdf[\"listing_density\"] = gdf[\"num_listings\"] / gdf[\"area_km2\"]\n",
    "\n",
    "# ==============================\n",
    "# 7️⃣ Color by cluster\n",
    "# ==============================\n",
    "cluster_colors = {-1: \"lightgray\"}\n",
    "palette = [\"#1f77b4\",\"#ff7f0e\",\"#2ca02c\",\"#d62728\",\"#9467bd\",\n",
    "           \"#8c564b\",\"#e377c2\",\"#7f7f7f\",\"#bcbd22\",\"#17becf\"]\n",
    "for i in range(k):\n",
    "    cluster_colors[i] = palette[i % len(palette)]\n",
    "\n",
    "def style_function(feature):\n",
    "    cluster = feature[\"properties\"][\"cluster_fill\"]\n",
    "    return {\n",
    "        \"fillColor\": cluster_colors.get(cluster, \"lightgray\"),\n",
    "        \"color\": \"black\",\n",
    "        \"weight\": 0.5,\n",
    "        \"fillOpacity\": 0.7\n",
    "    }\n",
    "\n",
    "# ==============================\n",
    "# 8️⃣ Folium map with tooltip\n",
    "# ==============================\n",
    "m = folium.Map(location=[52.3702, 4.8952], zoom_start=12)\n",
    "\n",
    "tooltip = GeoJsonTooltip(\n",
    "    fields=[\"pc4_code\", \"cluster\", \"price_num\", \"size_num\", \"price_per_m2\", \n",
    "            \"num_listings\", \"nr_rooms\", \"bedrooms\", \"dist_to_center_km\", \"listing_density\"],\n",
    "    aliases=[\"PC4:\", \"Cluster:\", \"Avg Price (€):\", \"Avg Size (m²):\", \"€/m²:\", \n",
    "             \"Listings:\", \"Avg Rooms:\", \"Avg Bedrooms:\", \"Distance to Center (km):\", \"Listings/km²:\"],\n",
    "    localize=True\n",
    ")\n",
    "\n",
    "# Keep only columns needed for GeoJson/tooltip\n",
    "gdf_for_map = gdf.drop(columns=[\"centroid\"])\n",
    "\n",
    "folium.GeoJson(\n",
    "    gdf_for_map,\n",
    "    style_function=style_function,\n",
    "    tooltip=tooltip\n",
    ").add_to(m)\n",
    "\n",
    "# ==============================\n",
    "# Legend: Rounded ranges + categories\n",
    "# ==============================\n",
    "# Price per m² categories\n",
    "price_bins = [0, 6000, 9000, 15000]  # €/m²\n",
    "price_labels = [\"Low\", \"Medium\", \"High\"]\n",
    "\n",
    "# Function to categorize\n",
    "def categorize(val, bins, labels):\n",
    "    for i in range(len(bins)-1):\n",
    "        if bins[i] <= val < bins[i+1]:\n",
    "            return labels[i]\n",
    "    return labels[-1]\n",
    "\n",
    "# Compute cluster stats\n",
    "cluster_stats = gdf.groupby(\"cluster_fill\").agg(\n",
    "    price_m2_min=(\"price_per_m2\", \"min\"),\n",
    "    price_m2_max=(\"price_per_m2\", \"max\"),\n",
    "    size_min=(\"size_num\", \"min\"),\n",
    "    size_max=(\"size_num\", \"max\")\n",
    ")\n",
    "\n",
    "legend_html = \"\"\"\n",
    "{% macro html(this, kwargs) %}\n",
    "<div style=\"\n",
    "    position: fixed; \n",
    "    bottom: 50px; left: 50px; width: 280px; \n",
    "    z-index:9999; font-size:14px;\n",
    "    background-color:white; padding: 10px; border:2px solid grey;\n",
    "\">\n",
    "<b>Cluster Legend</b><br>\n",
    "<i style=\"background:lightgray;width:12px;height:12px;display:inline-block;\"></i> No data<br>\n",
    "\"\"\"\n",
    "\n",
    "for i in range(k):\n",
    "    stats = cluster_stats.loc[i]\n",
    "    if stats.isnull().any():\n",
    "        legend_html += f'<i style=\"background:{palette[i % len(palette)]};width:12px;height:12px;display:inline-block;\"></i> Cluster {i}<br>'\n",
    "        continue\n",
    "\n",
    "    # Rounded values\n",
    "    price_min_r = int(stats[\"price_m2_min\"]//100*100)\n",
    "    price_max_r = int(stats[\"price_m2_max\"]//100*100)\n",
    "    size_min_r = int(stats[\"size_min\"]//5*5)\n",
    "    size_max_r = int(stats[\"size_max\"]//5*5)\n",
    "\n",
    "    price_cat = categorize((price_min_r + price_max_r)/2, price_bins, price_labels)\n",
    "\n",
    "    legend_html += (\n",
    "        f'<i style=\"background:{palette[i % len(palette)]};width:12px;height:12px;display:inline-block;\"></i> '\n",
    "        f'Cluster {i} ({price_cat} €/m², {price_min_r}-{price_max_r} €/m², size {size_min_r}-{size_max_r} m²)<br>'\n",
    "    )\n",
    "\n",
    "legend_html += \"</div>{% endmacro %}\"\n",
    "\n",
    "legend = MacroElement()\n",
    "legend._template = Template(legend_html)\n",
    "m.get_root().add_child(legend)\n",
    "\n",
    "# ==============================\n",
    "# Save map\n",
    "# ==============================\n",
    "m.save(\"amsterdam_clusters_neighborhood_map.html\")\n"
   ]
  },
  {
   "cell_type": "code",
   "execution_count": null,
   "id": "59",
   "metadata": {},
   "outputs": [],
   "source": [
    "# ==============================\n",
    "# 1️⃣ Cluster Summary Table\n",
    "# ==============================\n",
    "cluster_summary = gdf.groupby(\"cluster_fill\").agg(\n",
    "    pc_count=(\"pc4_code\", \"count\"),\n",
    "    price_min=(\"price_num\", \"min\"),\n",
    "    price_max=(\"price_num\", \"max\"),\n",
    "    price_avg=(\"price_num\", \"mean\"),\n",
    "    size_min=(\"size_num\", \"min\"),\n",
    "    size_max=(\"size_num\", \"max\"),\n",
    "    size_avg=(\"size_num\", \"mean\"),\n",
    "    price_per_m2_min=(\"price_per_m2\", \"min\"),\n",
    "    price_per_m2_max=(\"price_per_m2\", \"max\"),\n",
    "    price_per_m2_avg=(\"price_per_m2\", \"mean\"),\n",
    "    dist_to_center_avg=(\"dist_to_center_km\", \"mean\"),\n",
    "    listing_density_avg=(\"listing_density\", \"mean\")\n",
    ").reset_index()\n",
    "\n",
    "# Round numeric columns for readability\n",
    "numeric_cols = cluster_summary.select_dtypes(include=\"number\").columns\n",
    "cluster_summary[numeric_cols] = cluster_summary[numeric_cols].round(0)\n",
    "\n",
    "# Sort clusters by avg price_per_m2 descending\n",
    "cluster_summary = cluster_summary.sort_values(\"price_per_m2_avg\", ascending=False)\n",
    "\n",
    "# Optional: categorize clusters by €/m²\n",
    "def price_category(p):\n",
    "    if p < 6000:\n",
    "        return \"Low €/m²\"\n",
    "    elif p < 10000:\n",
    "        return \"Medium €/m²\"\n",
    "    else:\n",
    "        return \"High €/m²\"\n",
    "\n",
    "cluster_summary[\"price_category\"] = cluster_summary[\"price_per_m2_avg\"].apply(price_category)\n",
    "\n",
    "# ==============================\n",
    "# 2️⃣ Display Summary Table\n",
    "# ==============================\n",
    "print(cluster_summary[[\n",
    "    \"cluster_fill\", \"price_category\", \"price_per_m2_min\", \"price_per_m2_max\",\n",
    "    \"size_min\", \"size_max\", \"dist_to_center_avg\", \"listing_density_avg\", \"pc_count\"\n",
    "]])\n",
    "\n",
    "# ==============================\n",
    "# 3️⃣ Optional: Visualization\n",
    "# ==============================\n",
    "import matplotlib.pyplot as plt\n",
    "import seaborn as sns\n",
    "\n",
    "plt.figure(figsize=(10,6))\n",
    "sns.barplot(data=cluster_summary, x=\"cluster_fill\", y=\"price_per_m2_avg\", hue=\"price_category\", dodge=False)\n",
    "plt.title(\"Average Price per m² by Cluster\")\n",
    "plt.xlabel(\"Cluster\")\n",
    "plt.ylabel(\"€/m²\")\n",
    "plt.legend(title=\"Category\")\n",
    "plt.show()\n",
    "\n",
    "# Similarly, you can create plots for avg size, distance to center, or listing density\n"
   ]
  },
  {
   "cell_type": "code",
   "execution_count": null,
   "id": "60",
   "metadata": {},
   "outputs": [],
   "source": []
  }
 ],
 "metadata": {
  "kernelspec": {
   "display_name": "Python 3",
   "language": "python",
   "name": "python3"
  },
  "language_info": {
   "codemirror_mode": {
    "name": "ipython",
    "version": 3
   },
   "file_extension": ".py",
   "mimetype": "text/x-python",
   "name": "python",
   "nbconvert_exporter": "python",
   "pygments_lexer": "ipython3",
   "version": "3.10.11"
  }
 },
 "nbformat": 4,
 "nbformat_minor": 5
}
