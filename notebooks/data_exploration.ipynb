{
 "cells": [
  {
   "cell_type": "code",
   "execution_count": null,
   "id": "1873ca44",
   "metadata": {},
   "outputs": [],
   "source": [
    "import pandas as pd\n",
    "import json\n",
    "import glob"
   ]
  },
  {
   "cell_type": "code",
   "execution_count": null,
   "id": "e7029075",
   "metadata": {},
   "outputs": [],
   "source": [
    "import re"
   ]
  },
  {
   "cell_type": "code",
   "execution_count": null,
   "id": "c33dc1d2",
   "metadata": {},
   "outputs": [],
   "source": [
    "import seaborn as sns\n",
    "import matplotlib.pyplot as plt"
   ]
  },
  {
   "cell_type": "code",
   "execution_count": null,
   "id": "5a767535",
   "metadata": {},
   "outputs": [],
   "source": [
    "import sys\n",
    "import os\n",
    "\n",
    "# Adjust the path to your project root folder\n",
    "project_root = os.path.abspath(\n",
    "    os.path.join(\"..\")\n",
    ")  # from notebooks/ up one level\n",
    "\n",
    "if project_root not in sys.path:\n",
    "    sys.path.insert(0, project_root)\n",
    "\n",
    "from src.data_loading.data_loading.data_loader import load_data_from_json\n",
    "from src.data_loading.preprocessing.preprocessing import preprocess_df\n",
    "\n",
    "\n",
    "df_raw = load_data_from_json(\"../data/parsed_json/*.json\")\n",
    "df_clean = preprocess_df(df_raw)\n",
    "df_clean\n",
    "df = df_clean.copy()"
   ]
  },
  {
   "cell_type": "code",
   "execution_count": null,
   "id": "5d15278e",
   "metadata": {},
   "outputs": [],
   "source": [
    "df"
   ]
  },
  {
   "cell_type": "code",
   "execution_count": null,
   "id": "11c69e57",
   "metadata": {},
   "outputs": [],
   "source": [
    "df.info()"
   ]
  },
  {
   "cell_type": "code",
   "execution_count": null,
   "id": "f418bff6",
   "metadata": {},
   "outputs": [],
   "source": [
    "df.replace(\"N/A\", pd.NA, inplace=True)"
   ]
  },
  {
   "cell_type": "code",
   "execution_count": null,
   "id": "2b5889f4",
   "metadata": {},
   "outputs": [],
   "source": [
    "df[\"bedrooms_num\"] = pd.to_numeric(df[\"bedrooms\"], errors=\"coerce\")\n",
    "df[\"nr_rooms_num\"] = pd.to_numeric(df[\"nr_rooms\"], errors=\"coerce\")\n",
    "df[\"bathrooms_num\"] = pd.to_numeric(df[\"bathrooms\"], errors=\"coerce\")\n",
    "df[\"year_of_construction_num\"] = pd.to_numeric(\n",
    "    df[\"year_of_construction\"], errors=\"coerce\"\n",
    ")\n",
    "\n",
    "df[\n",
    "    [\n",
    "        \"price_num\",\n",
    "        \"size_num\",\n",
    "        \"bedrooms_num\",\n",
    "        \"nr_rooms_num\",\n",
    "        \"bathrooms_num\",\n",
    "        \"year_of_construction_num\",\n",
    "    ]\n",
    "].describe()"
   ]
  },
  {
   "cell_type": "code",
   "execution_count": null,
   "id": "78937835",
   "metadata": {},
   "outputs": [],
   "source": [
    "# Price Distribution\n",
    "sns.histplot(df[\"price_num\"].dropna(), bins=15)\n",
    "plt.title(\"Price Distribution\")\n",
    "plt.xlabel(\"Price (€)\")\n",
    "plt.show()\n",
    "\n",
    "# Size Distribution\n",
    "sns.histplot(df[\"size_num\"].dropna(), bins=15)\n",
    "plt.title(\"Size Distribution\")\n",
    "plt.xlabel(\"Size (m²)\")\n",
    "plt.show()\n",
    "\n",
    "# Bedrooms Count\n",
    "sns.countplot(x=\"bedrooms_num\", data=df)\n",
    "plt.title(\"Bedrooms Count\")\n",
    "plt.show()\n",
    "\n",
    "# Year of construction histogram\n",
    "sns.histplot(df[\"year_of_construction_num\"].dropna(), bins=10)\n",
    "plt.title(\"Year of Construction\")\n",
    "plt.show()"
   ]
  },
  {
   "cell_type": "code",
   "execution_count": null,
   "id": "b5037c18",
   "metadata": {},
   "outputs": [],
   "source": [
    "# Neighborhood Counts\n",
    "print(df[\"neighborhood\"].value_counts())\n",
    "# Energy label counts\n",
    "print(df[\"energy_label\"].value_counts())"
   ]
  },
  {
   "cell_type": "code",
   "execution_count": null,
   "id": "8354f041",
   "metadata": {},
   "outputs": [],
   "source": [
    "# Facilities unique values (might be comma separated string)\n",
    "print(df[\"facilities\"].dropna().head())\n",
    "\n",
    "# Missing values\n",
    "print(df.isna().sum())"
   ]
  },
  {
   "cell_type": "markdown",
   "id": "01cdfba1",
   "metadata": {},
   "source": [
    "#### 0. Missing values"
   ]
  },
  {
   "cell_type": "code",
   "execution_count": null,
   "id": "7ab78a72",
   "metadata": {},
   "outputs": [],
   "source": [
    "import seaborn as sns\n",
    "import matplotlib.pyplot as plt\n",
    "\n",
    "sns.heatmap(df.isna(), cbar=False)\n",
    "plt.title(\"Missing Values Heatmap\")\n",
    "plt.show()\n",
    "\n",
    "print(df.isna().sum().sort_values(ascending=False))\n"
   ]
  },
  {
   "cell_type": "markdown",
   "id": "d326e02e",
   "metadata": {},
   "source": [
    "#### 1. Correlation Analysis of Numeric Features\n"
   ]
  },
  {
   "cell_type": "code",
   "execution_count": null,
   "id": "2d546c3c",
   "metadata": {},
   "outputs": [],
   "source": [
    "df.corr(numeric_only=True)[\"price_num\"].sort_values(ascending=False)"
   ]
  },
  {
   "cell_type": "code",
   "execution_count": null,
   "id": "9d57250c",
   "metadata": {},
   "outputs": [],
   "source": [
    "corr = df.corr(numeric_only=True)\n",
    "print(corr.columns)"
   ]
  },
  {
   "cell_type": "code",
   "execution_count": null,
   "id": "6482ed81",
   "metadata": {},
   "outputs": [],
   "source": [
    "plt.scatter(df[\"size_num\"], df[\"price_num\"])\n",
    "plt.xlabel(\"Living Area (m²)\")\n",
    "plt.ylabel(\"Price (€)\")\n",
    "plt.title(\"Price vs Living Area\")\n",
    "plt.show()\n"
   ]
  },
  {
   "cell_type": "code",
   "execution_count": null,
   "id": "941a24ca",
   "metadata": {},
   "outputs": [],
   "source": [
    "numeric_cols = [\n",
    "    \"price_num\",\n",
    "    \"size_num\",\n",
    "    \"bedrooms_num\",\n",
    "    \"nr_rooms_num\",\n",
    "    \"bathrooms_num\",\n",
    "    \"year_of_construction_num\",\n",
    "]\n",
    "\n",
    "corr = df[numeric_cols].corr()\n",
    "\n",
    "plt.figure(figsize=(8, 6))\n",
    "sns.heatmap(corr, annot=True, cmap=\"coolwarm\", fmt=\".2f\")\n",
    "plt.title(\"Correlation Matrix of Numeric Features\")\n",
    "plt.show()"
   ]
  },
  {
   "cell_type": "markdown",
   "id": "89d3f772",
   "metadata": {},
   "source": [
    "#### 2. Price per m² Calculation & Analysis\n",
    "\n",
    "Derive price per m² from price and size, check its distribution and relation to neighborhood average\n"
   ]
  },
  {
   "cell_type": "code",
   "execution_count": null,
   "id": "f1272f5a",
   "metadata": {},
   "outputs": [],
   "source": [
    "df[\"price_per_m2\"] = df[\"price_num\"] / df[\"size_num\"]\n",
    "\n",
    "sns.histplot(df[\"price_per_m2\"].dropna(), bins=20)\n",
    "plt.title(\"Price per m² Distribution\")\n",
    "plt.xlabel(\"Price per m² (€)\")\n",
    "plt.show()"
   ]
  },
  {
   "cell_type": "code",
   "execution_count": null,
   "id": "b1bfac7e",
   "metadata": {},
   "outputs": [],
   "source": [
    "df.columns"
   ]
  },
  {
   "cell_type": "code",
   "execution_count": null,
   "id": "846e6623",
   "metadata": {},
   "outputs": [],
   "source": [
    "sns.scatterplot(x=\"price_per_m2_neighborhood\", y=\"price_per_m2\", data=df)\n",
    "plt.title(\"Listing Price/m² vs Neighborhood Avg Price/m²\")\n",
    "plt.xlabel(\"Neighborhood Avg Price/m² (€)\")\n",
    "plt.ylabel(\"Listing Price/m² (€)\")\n",
    "plt.show()"
   ]
  },
  {
   "cell_type": "markdown",
   "id": "3c805f6f",
   "metadata": {},
   "source": [
    "#### 3. Outlier Detection in Price or Price per m²\n",
    "\n",
    "Visualize and identify listings with suspiciously high or low prices\n"
   ]
  },
  {
   "cell_type": "code",
   "execution_count": null,
   "id": "f9ce5d14",
   "metadata": {},
   "outputs": [],
   "source": [
    "Q1 = df[\"price_num\"].quantile(0.25)\n",
    "Q3 = df[\"price_num\"].quantile(0.75)\n",
    "\n",
    "IQR = Q3 - Q1\n",
    "\n",
    "outliers = df[\n",
    "    (df[\"price_num\"] < (Q1 - 1.5 * IQR)) | (df[\"price_num\"] > (Q3 + 1.5 * IQR))\n",
    "]\n",
    "\n",
    "print(f\"Found {len(outliers)} price outliers\")\n",
    "print(outliers[[\"address\", \"price_num\"]])"
   ]
  },
  {
   "cell_type": "markdown",
   "id": "f3fdf6fb",
   "metadata": {},
   "source": [
    "#### 4. Feature Engineering: Extract Useful Info from Text\n",
    "\n",
    "Example: Count number of facilities\n"
   ]
  },
  {
   "cell_type": "code",
   "execution_count": null,
   "id": "6bf6674c",
   "metadata": {},
   "outputs": [],
   "source": [
    "df[\"num_facilities\"] = df[\"facilities\"].apply(\n",
    "    lambda x: len(x.split(\",\")) if pd.notna(x) else 0\n",
    ")\n",
    "sns.histplot(df[\"num_facilities\"], bins=10)\n",
    "plt.title(\"Distribution of Number of Facilities\")\n",
    "plt.show()"
   ]
  },
  {
   "cell_type": "markdown",
   "id": "deee5ee4",
   "metadata": {},
   "source": [
    "#### 5. Explore Missing Data Patterns\n"
   ]
  },
  {
   "cell_type": "code",
   "execution_count": null,
   "id": "98cd19d1",
   "metadata": {},
   "outputs": [],
   "source": [
    "import missingno as msno\n",
    "\n",
    "msno.matrix(df)\n",
    "plt.show()\n",
    "\n",
    "msno.bar(df)\n",
    "plt.show()"
   ]
  },
  {
   "cell_type": "markdown",
   "id": "362077f0",
   "metadata": {},
   "source": [
    "#### 6. Categorical Analysis\n",
    "\n",
    "Distribution of energy labels or balconies\n"
   ]
  },
  {
   "cell_type": "code",
   "execution_count": null,
   "id": "41e8b153",
   "metadata": {},
   "outputs": [],
   "source": [
    "sns.countplot(x=\"energy_label\", data=df)\n",
    "plt.title(\"Energy Label Distribution\")\n",
    "plt.show()\n",
    "\n",
    "sns.countplot(x=\"balcony\", data=df)\n",
    "plt.title(\"Balcony Availability\")\n",
    "plt.xticks(rotation=45)\n",
    "plt.show()"
   ]
  },
  {
   "cell_type": "code",
   "execution_count": null,
   "id": "7070d76c",
   "metadata": {},
   "outputs": [],
   "source": [
    "df"
   ]
  },
  {
   "cell_type": "code",
   "execution_count": null,
   "id": "d40c398b",
   "metadata": {},
   "outputs": [],
   "source": []
  }
 ],
 "metadata": {
  "kernelspec": {
   "display_name": "Python 3",
   "language": "python",
   "name": "python3"
  },
  "language_info": {
   "codemirror_mode": {
    "name": "ipython",
    "version": 3
   },
   "file_extension": ".py",
   "mimetype": "text/x-python",
   "name": "python",
   "nbconvert_exporter": "python",
   "pygments_lexer": "ipython3",
   "version": "3.10.11"
  }
 },
 "nbformat": 4,
 "nbformat_minor": 5
}
